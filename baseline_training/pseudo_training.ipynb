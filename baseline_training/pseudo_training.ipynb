{
 "cells": [
  {
   "cell_type": "code",
   "execution_count": 2,
   "id": "43fe6e1d-e23f-41be-af24-e2217f79f19a",
   "metadata": {
    "collapsed": true,
    "jupyter": {
     "outputs_hidden": true
    },
    "tags": []
   },
   "outputs": [
    {
     "name": "stdout",
     "output_type": "stream",
     "text": [
      "100%|█████████████████████████████████████████| 202/202 [07:42<00:00,  2.29s/it]\n",
      "------------------------------\n",
      "[Best box threshold]: 0.34\n",
      "[Best nms threshold]: 0.48\n",
      "[Best pp threshold]: 0.26\n",
      "[AP]: 0.38210\n",
      "100%|█████████████████████████████████████████| 188/188 [09:02<00:00,  2.89s/it]\n",
      "------------------------------\n",
      "[Best box threshold]: 0.32\n",
      "[Best nms threshold]: 0.50\n",
      "[Best pp threshold]: 0.26\n",
      "[AP]: 0.35430\n",
      "100%|█████████████████████████████████████████| 188/188 [11:55<00:00,  3.81s/it]\n",
      "------------------------------\n",
      "[Best box threshold]: 0.32\n",
      "[Best nms threshold]: 0.48\n",
      "[Best pp threshold]: 0.26\n",
      "[AP]: 0.33659\n",
      "100%|█████████████████████████████████████████| 202/202 [12:48<00:00,  3.81s/it]\n",
      "------------------------------\n",
      "[Best box threshold]: 0.32\n",
      "[Best nms threshold]: 0.52\n",
      "[Best pp threshold]: 0.26\n",
      "[AP]: 0.39255\n",
      "100%|█████████████████████████████████████████| 200/200 [12:46<00:00,  3.83s/it]\n",
      "------------------------------\n",
      "[Best box threshold]: 0.32\n",
      "[Best nms threshold]: 0.56\n",
      "[Best pp threshold]: 0.26\n",
      "[AP]: 0.32107\n",
      "\u001b[0m"
     ]
    }
   ],
   "source": [
    "!python evaluate.py --backbone ed5 --folds 1 --img-size 768\n",
    "!python evaluate.py --backbone ed6 --folds 0 --img-size 768\n",
    "!python evaluate.py --backbone ed7 --folds 0 --img-size 896\n",
    "!python evaluate.py --backbone ed7 --folds 1 --img-size 896\n",
    "!python evaluate.py --backbone ed7 --folds 2 --img-size 896"
   ]
  },
  {
   "cell_type": "code",
   "execution_count": 1,
   "id": "ea0ff4e8-3041-428e-a0c3-5cc85d71d350",
   "metadata": {},
   "outputs": [],
   "source": [
    "import os\n",
    "import numpy as np\n",
    "import pandas as pd\n",
    "import gc\n",
    "import cv2\n",
    "import random\n",
    "from PIL import Image\n",
    "from tqdm import tqdm\n",
    "from os import listdir\n",
    "from os.path import isfile, join\n",
    "from multiprocessing import Pool\n",
    "from matplotlib import pyplot as plt\n",
    "from ensemble_boxes import weighted_boxes_fusion\n",
    "from utils import get_resolution, save_dict, load_dict, format_prediction_string, make_pseudo_dataframe, refine_checkpoint_in, refine_checkpoint_out"
   ]
  },
  {
   "cell_type": "code",
   "execution_count": 2,
   "id": "09a58da2-90b9-4eff-86ba-b5d1be3bbe03",
   "metadata": {},
   "outputs": [],
   "source": [
    "TEST_DIR = 'dataset/test'\n",
    "TRAIN_DIR = 'dataset/train'\n",
    "CHECKPOINT_DIR = 'checkpoints'\n",
    "PSEUDO = True\n",
    "colors = [[random.randint(0, 255) for _ in range(3)] for _ in range(8)]"
   ]
  },
  {
   "cell_type": "code",
   "execution_count": 3,
   "id": "2a942e24-82dd-4d2b-929b-4bb78c44a5c7",
   "metadata": {},
   "outputs": [],
   "source": [
    "df = 'dataset/train/'\n",
    "image_file_list = [f for f in listdir(df) if isfile(join(df, f))]\n",
    "image_ids = []\n",
    "for id in image_file_list:\n",
    "    image_ids.append(id.split(\".\")[0])"
   ]
  },
  {
   "cell_type": "code",
   "execution_count": 4,
   "id": "a1bc3b2d-889e-4bc2-bfc0-0c2834706570",
   "metadata": {},
   "outputs": [],
   "source": [
    "def visualize_result(TEST_DIR, output_dict):\n",
    "    for image_id in list(['40_20','90_1','20_10','70_50','80_20','10_65','30_23','50_50','60_39']):\n",
    "        img_path = '{}/{}.jpg'.format(TEST_DIR, image_id)\n",
    "        image = Image.open(img_path)\n",
    "        image = image.convert('RGB')\n",
    "        image = np.array(image)\n",
    "\n",
    "        boxes, scores, labels = output_dict[image_id]\n",
    "        if len(boxes) > 0:\n",
    "            boxes = boxes.astype(np.int32)\n",
    "\n",
    "        fig, ax = plt.subplots(1, 1, figsize=(20, 10))\n",
    "        for idx, box in enumerate(boxes):\n",
    "            plot_one_box([box[0], box[1], box[2], box[3]], image, color=colors[int(labels[idx])],\n",
    "                     label=str(labels[idx]), line_thickness=True)\n",
    "            # cv2.rectangle(image, (box[0], box[1]), (box[2], box[3]), (255, 0, 0), 3)\n",
    "\n",
    "        ax.set_axis_off()\n",
    "        ax.imshow(image)"
   ]
  },
  {
   "cell_type": "code",
   "execution_count": 5,
   "id": "e2e9271d-1df8-454b-b502-ace5b3eb4afa",
   "metadata": {},
   "outputs": [],
   "source": [
    "def plot_one_box(x, image, color=None, label=None, line_thickness=True):\n",
    "    # Plots one bounding box on image img\n",
    "    # tl = round(0.002 * (image.shape[0] + image.shape[1]) / 2) + 1  # line/font thickness\n",
    "    # print(tl)\n",
    "    tl = 1\n",
    "    color = color or [random.randint(0, 255) for _ in range(3)]\n",
    "    c1, c2 = (int(x[0]), int(x[1])), (int(x[2]), int(x[3]))\n",
    "    cv2.rectangle(image, c1, c2, color, thickness=tl, lineType=cv2.LINE_AA)\n",
    "    if label:\n",
    "        tf = max(tl - 1, 1)  # font thickness\n",
    "        t_size = cv2.getTextSize(label, 0, fontScale=tl / 3, thickness=tf)[0]\n",
    "        c2 = c1[0] + t_size[0], c1[1] - t_size[1] - 3\n",
    "        # cv2.rectangle(image, c1, c2, color, -1, cv2.LINE_AA)  # filled\n",
    "        cv2.putText(image, label, (c1[0], c1[1] - 2), 0, tl / 3, [225, 255, 255], thickness=tf, lineType=cv2.LINE_AA)\n"
   ]
  },
  {
   "cell_type": "code",
   "execution_count": 6,
   "id": "678f511f-1811-4196-8f43-8fa1441f3976",
   "metadata": {},
   "outputs": [],
   "source": [
    "def run_wbf(image_ids, box_pred, score_pred, label_pred, NMS_THRESH, BOX_THRESH, PP_THRESH):\n",
    "    output_dict = {}\n",
    "    for image_id in image_ids:\n",
    "        if image_id not in box_pred.keys(): continue\n",
    "        boxes = box_pred[image_id]\n",
    "        scores = score_pred[image_id]\n",
    "        labels = label_pred[image_id]\n",
    "\n",
    "        for idx, label in enumerate(labels):\n",
    "            if 6.0 in label:\n",
    "                print(image_id)\n",
    "\n",
    "        boxes, scores, labels = weighted_boxes_fusion(boxes, scores, labels, weights=None, iou_thr=NMS_THRESH, skip_box_thr=BOX_THRESH)\n",
    "        boxes = np.array(boxes)\n",
    "        scores = np.array(scores)\n",
    "        labels = np.array(labels)\n",
    "\n",
    "        idxs = np.where(scores > PP_THRESH)[0]\n",
    "        boxes = boxes[idxs]\n",
    "        scores = scores[idxs]\n",
    "        labels = labels[idxs]\n",
    "\n",
    "        if len(boxes) > 0:\n",
    "            height, width = 1080, 1920\n",
    "            boxes[:, [0,2]] = (boxes[:, [0,2]]*width).clip(min=0, max=width-1)\n",
    "            boxes[:, [1,3]] = (boxes[:, [1,3]]*height).clip(min=0, max=height-1)\n",
    "        output_dict[image_id] = (boxes, scores, labels)\n",
    "    return output_dict\n"
   ]
  },
  {
   "cell_type": "code",
   "execution_count": 7,
   "id": "6a73507a-ffd4-48c7-a480-5c8fbb6ca3c1",
   "metadata": {},
   "outputs": [],
   "source": [
    "def run_wbf_4preds(image_ids,\n",
    "                   box_pred1, score_pred1, label_pred1,\n",
    "                   box_pred2, score_pred2, label_pred2,\n",
    "                    box_pred3, score_pred3, label_pred3,\n",
    "                    box_pred4, score_pred4, label_pred4,\n",
    "                   NMS_THRESH, BOX_THRESH, PP_THRESH):\n",
    "    output_dict = {}\n",
    "    for image_id in image_ids:\n",
    "        if image_id not in box_pred1.keys(): continue\n",
    "        boxes = box_pred1[image_id] + box_pred2[image_id] + box_pred3[image_id] + box_pred4[image_id]\n",
    "        scores = score_pred1[image_id] + score_pred2[image_id] + score_pred3[image_id] + score_pred4[image_id]\n",
    "        labels = label_pred1[image_id] + label_pred2[image_id] + label_pred3[image_id] + label_pred4[image_id]\n",
    "\n",
    "        boxes, scores, labels = weighted_boxes_fusion(boxes, scores, labels, weights=None, iou_thr=NMS_THRESH, skip_box_thr=BOX_THRESH)\n",
    "        boxes = np.array(boxes)\n",
    "        scores = np.array(scores)\n",
    "\n",
    "        idxs = np.where(scores > PP_THRESH)[0]\n",
    "        boxes = boxes[idxs]\n",
    "        scores = scores[idxs]\n",
    "\n",
    "        if len(boxes) > 0:\n",
    "            height, width = 1080, 1920\n",
    "            boxes[:, [0, 2]] = (boxes[:, [0, 2]] * width).clip(min=0, max=width - 1)\n",
    "            boxes[:, [1, 3]] = (boxes[:, [1, 3]] * height).clip(min=0, max=height - 1)\n",
    "        output_dict[image_id] = (boxes, scores, labels)\n",
    "    return output_dict"
   ]
  },
  {
   "cell_type": "code",
   "execution_count": 8,
   "id": "a08920ff-1e6e-4503-990d-cadb749e9a96",
   "metadata": {},
   "outputs": [
    {
     "data": {
      "text/plain": [
       "0"
      ]
     },
     "execution_count": 8,
     "metadata": {},
     "output_type": "execute_result"
    }
   ],
   "source": [
    "effdet_ed7_896_box_pred = load_dict('pkl_new/effdet_ed7_896_box_pred.pkl')\n",
    "effdet_ed7_896_score_pred = load_dict('pkl_new/effdet_ed7_896_score_pred.pkl')\n",
    "effdet_ed7_896_label_pred = load_dict('pkl_new/effdet_ed7_896_label_pred.pkl')\n",
    "\n",
    "effdet_ed6_768_box_pred = load_dict('pkl_new/effdet_ed6_768_box_pred.pkl')\n",
    "effdet_ed6_768_score_pred = load_dict('pkl_new/effdet_ed6_768_score_pred.pkl')\n",
    "effdet_ed6_768_label_pred = load_dict('pkl_new/effdet_ed6_768_label_pred.pkl')\n",
    "\n",
    "effdet_ed5_768_box_pred = load_dict('pkl_new/effdet_ed5_768_box_pred.pkl')\n",
    "effdet_ed5_768_score_pred = load_dict('pkl_new/effdet_ed5_768_score_pred.pkl')\n",
    "effdet_ed5_768_label_pred = load_dict('pkl_new/effdet_ed5_768_label_pred.pkl')\n",
    "\n",
    "effdet_ed7_1024_box_pred = load_dict('pkl_new/effdet_ed7_1024_box_pred.pkl')\n",
    "effdet_ed7_1024_score_pred = load_dict('pkl_new/effdet_ed7_1024_score_pred.pkl')\n",
    "effdet_ed7_1024_label_pred = load_dict('pkl_new/effdet_ed7_1024_label_pred.pkl')\n",
    "\n",
    "output_dict = run_wbf_4preds(image_ids, \n",
    "                         effdet_ed7_896_box_pred, effdet_ed7_896_score_pred, effdet_ed7_896_label_pred,\n",
    "                         effdet_ed6_768_box_pred, effdet_ed6_768_score_pred, effdet_ed6_768_label_pred,\n",
    "                         effdet_ed5_768_box_pred, effdet_ed5_768_score_pred, effdet_ed5_768_label_pred,\n",
    "                         effdet_ed7_1024_box_pred, effdet_ed7_1024_score_pred, effdet_ed7_1024_label_pred, \n",
    "                         NMS_THRESH=0.50, BOX_THRESH=0.32, PP_THRESH=0.26)\n",
    "    \n",
    "    \n",
    "del effdet_ed7_896_box_pred\n",
    "del effdet_ed7_896_score_pred\n",
    "del effdet_ed7_896_label_pred\n",
    "\n",
    "del effdet_ed6_768_box_pred\n",
    "del effdet_ed6_768_score_pred\n",
    "del effdet_ed6_768_label_pred\n",
    "\n",
    "del effdet_ed5_768_box_pred\n",
    "del effdet_ed5_768_score_pred\n",
    "del effdet_ed5_768_label_pred\n",
    "\n",
    "del effdet_ed7_1024_box_pred\n",
    "del effdet_ed7_1024_score_pred\n",
    "del effdet_ed7_1024_label_pred\n",
    "\n",
    "gc.collect()"
   ]
  },
  {
   "cell_type": "code",
   "execution_count": 29,
   "id": "bf7a93f8-260d-4bf2-9e34-13e70d1330fc",
   "metadata": {
    "collapsed": true,
    "jupyter": {
     "outputs_hidden": true
    },
    "tags": []
   },
   "outputs": [
    {
     "ename": "TypeError",
     "evalue": "Can't convert object to 'str' for 'text'",
     "output_type": "error",
     "traceback": [
      "\u001b[0;31m---------------------------------------------------------------------------\u001b[0m",
      "\u001b[0;31mTypeError\u001b[0m                                 Traceback (most recent call last)",
      "Cell \u001b[0;32mIn[29], line 1\u001b[0m\n\u001b[0;32m----> 1\u001b[0m \u001b[43mvisualize_result\u001b[49m\u001b[43m(\u001b[49m\u001b[43mTEST_DIR\u001b[49m\u001b[43m,\u001b[49m\u001b[43m \u001b[49m\u001b[43moutput_dict\u001b[49m\u001b[43m)\u001b[49m\n",
      "Cell \u001b[0;32mIn[28], line 14\u001b[0m, in \u001b[0;36mvisualize_result\u001b[0;34m(TEST_DIR, output_dict)\u001b[0m\n\u001b[1;32m     12\u001b[0m fig, ax \u001b[38;5;241m=\u001b[39m plt\u001b[38;5;241m.\u001b[39msubplots(\u001b[38;5;241m1\u001b[39m, \u001b[38;5;241m1\u001b[39m, figsize\u001b[38;5;241m=\u001b[39m(\u001b[38;5;241m20\u001b[39m, \u001b[38;5;241m10\u001b[39m))\n\u001b[1;32m     13\u001b[0m \u001b[38;5;28;01mfor\u001b[39;00m idx, box \u001b[38;5;129;01min\u001b[39;00m \u001b[38;5;28menumerate\u001b[39m(boxes):\n\u001b[0;32m---> 14\u001b[0m     \u001b[43mplot_one_box\u001b[49m\u001b[43m(\u001b[49m\u001b[43m[\u001b[49m\u001b[43mbox\u001b[49m\u001b[43m[\u001b[49m\u001b[38;5;241;43m0\u001b[39;49m\u001b[43m]\u001b[49m\u001b[43m,\u001b[49m\u001b[43m \u001b[49m\u001b[43mbox\u001b[49m\u001b[43m[\u001b[49m\u001b[38;5;241;43m1\u001b[39;49m\u001b[43m]\u001b[49m\u001b[43m,\u001b[49m\u001b[43m \u001b[49m\u001b[43mbox\u001b[49m\u001b[43m[\u001b[49m\u001b[38;5;241;43m2\u001b[39;49m\u001b[43m]\u001b[49m\u001b[43m,\u001b[49m\u001b[43m \u001b[49m\u001b[43mbox\u001b[49m\u001b[43m[\u001b[49m\u001b[38;5;241;43m3\u001b[39;49m\u001b[43m]\u001b[49m\u001b[43m]\u001b[49m\u001b[43m,\u001b[49m\u001b[43m \u001b[49m\u001b[43mimage\u001b[49m\u001b[43m,\u001b[49m\u001b[43m \u001b[49m\u001b[43mcolor\u001b[49m\u001b[38;5;241;43m=\u001b[39;49m\u001b[43mcolors\u001b[49m\u001b[43m[\u001b[49m\u001b[38;5;28;43mint\u001b[39;49m\u001b[43m(\u001b[49m\u001b[43mlabels\u001b[49m\u001b[43m[\u001b[49m\u001b[43midx\u001b[49m\u001b[43m]\u001b[49m\u001b[43m)\u001b[49m\u001b[43m]\u001b[49m\u001b[43m,\u001b[49m\n\u001b[1;32m     15\u001b[0m \u001b[43m             \u001b[49m\u001b[43mlabel\u001b[49m\u001b[38;5;241;43m=\u001b[39;49m\u001b[43mlabels\u001b[49m\u001b[43m[\u001b[49m\u001b[43midx\u001b[49m\u001b[43m]\u001b[49m\u001b[43m,\u001b[49m\u001b[43m \u001b[49m\u001b[43mline_thickness\u001b[49m\u001b[38;5;241;43m=\u001b[39;49m\u001b[38;5;28;43;01mTrue\u001b[39;49;00m\u001b[43m)\u001b[49m\n\u001b[1;32m     16\u001b[0m     \u001b[38;5;66;03m# cv2.rectangle(image, (box[0], box[1]), (box[2], box[3]), (255, 0, 0), 3)\u001b[39;00m\n\u001b[1;32m     18\u001b[0m ax\u001b[38;5;241m.\u001b[39mset_axis_off()\n",
      "Cell \u001b[0;32mIn[22], line 11\u001b[0m, in \u001b[0;36mplot_one_box\u001b[0;34m(x, image, color, label, line_thickness)\u001b[0m\n\u001b[1;32m      9\u001b[0m \u001b[38;5;28;01mif\u001b[39;00m label:\n\u001b[1;32m     10\u001b[0m     tf \u001b[38;5;241m=\u001b[39m \u001b[38;5;28mmax\u001b[39m(tl \u001b[38;5;241m-\u001b[39m \u001b[38;5;241m1\u001b[39m, \u001b[38;5;241m1\u001b[39m)  \u001b[38;5;66;03m# font thickness\u001b[39;00m\n\u001b[0;32m---> 11\u001b[0m     t_size \u001b[38;5;241m=\u001b[39m \u001b[43mcv2\u001b[49m\u001b[38;5;241;43m.\u001b[39;49m\u001b[43mgetTextSize\u001b[49m\u001b[43m(\u001b[49m\u001b[43mlabel\u001b[49m\u001b[43m,\u001b[49m\u001b[43m \u001b[49m\u001b[38;5;241;43m0\u001b[39;49m\u001b[43m,\u001b[49m\u001b[43m \u001b[49m\u001b[43mfontScale\u001b[49m\u001b[38;5;241;43m=\u001b[39;49m\u001b[43mtl\u001b[49m\u001b[43m \u001b[49m\u001b[38;5;241;43m/\u001b[39;49m\u001b[43m \u001b[49m\u001b[38;5;241;43m3\u001b[39;49m\u001b[43m,\u001b[49m\u001b[43m \u001b[49m\u001b[43mthickness\u001b[49m\u001b[38;5;241;43m=\u001b[39;49m\u001b[43mtf\u001b[49m\u001b[43m)\u001b[49m[\u001b[38;5;241m0\u001b[39m]\n\u001b[1;32m     12\u001b[0m     c2 \u001b[38;5;241m=\u001b[39m c1[\u001b[38;5;241m0\u001b[39m] \u001b[38;5;241m+\u001b[39m t_size[\u001b[38;5;241m0\u001b[39m], c1[\u001b[38;5;241m1\u001b[39m] \u001b[38;5;241m-\u001b[39m t_size[\u001b[38;5;241m1\u001b[39m] \u001b[38;5;241m-\u001b[39m \u001b[38;5;241m3\u001b[39m\n\u001b[1;32m     13\u001b[0m     \u001b[38;5;66;03m# cv2.rectangle(image, c1, c2, color, -1, cv2.LINE_AA)  # filled\u001b[39;00m\n",
      "\u001b[0;31mTypeError\u001b[0m: Can't convert object to 'str' for 'text'"
     ]
    },
    {
     "data": {
      "image/png": "[encoded data removed]",
      "text/plain": [
       "<Figure size 2000x1000 with 1 Axes>"
      ]
     },
     "metadata": {},
     "output_type": "display_data"
    }
   ],
   "source": [
    "visualize_result(TEST_DIR, output_dict)"
   ]
  },
  {
   "cell_type": "code",
   "execution_count": 9,
   "id": "9e63b371-0097-4d3d-83f3-f3ae18b5c86b",
   "metadata": {
    "tags": []
   },
   "outputs": [
    {
     "data": {
      "text/plain": [
       "0"
      ]
     },
     "execution_count": 9,
     "metadata": {},
     "output_type": "execute_result"
    }
   ],
   "source": [
    "df = pd.read_csv('dataset/trainset_ai.csv')\n",
    "PSEUDO_FOLD = 1\n",
    "make_pseudo_dataframe(image_ids, output_dict, TEST_DIR, df, TRAIN_DIR, PSEUDO_FOLD)\n",
    "del output_dict\n",
    "gc.collect()"
   ]
  },
  {
   "cell_type": "code",
   "execution_count": 12,
   "id": "c00453d2-dee0-450f-8262-ce2be6d09034",
   "metadata": {
    "tags": []
   },
   "outputs": [],
   "source": [
    "refine_checkpoint_out('checkpoints4/effdet_ed6_640_fold1_with_optimizer.pth', './effdet_ed6_640_fold1.pth')"
   ]
  },
  {
   "cell_type": "code",
   "execution_count": 13,
   "id": "834755e5-fcb9-4cd0-a9cd-8987c17e30d6",
   "metadata": {},
   "outputs": [],
   "source": [
    "box_pred = load_dict('effdet_ed6_640_box_pred.pkl')\n",
    "score_pred = load_dict('effdet_ed6_640_score_pred.pkl')\n",
    "label_pred = load_dict('effdet_ed6_640_label_pred.pkl')\n",
    "output_dict = run_wbf(image_ids, box_pred, score_pred, label_pred, \n",
    "                      NMS_THRESH=0.50, BOX_THRESH=0.42, PP_THRESH=0.32)\n",
    "del box_pred\n",
    "del score_pred\n",
    "del label_pred\n",
    "gc.collect()\n",
    "\n",
    "!rm -rf ./train.csv\n",
    "!rm -rf ./valid.csv"
   ]
  },
  {
   "cell_type": "code",
   "execution_count": 14,
   "id": "dcc01b95-562c-4317-9ddc-9ad9675a988d",
   "metadata": {},
   "outputs": [
    {
     "data": {
      "text/plain": [
       "0"
      ]
     },
     "execution_count": 14,
     "metadata": {},
     "output_type": "execute_result"
    }
   ],
   "source": [
    "df = pd.read_csv('dataset/trainset_ai.csv')   ### convert train.csv to image_id,fold,xmin,ymin,xmax,ymax,isbox,source\n",
    "PSEUDO_FOLD = 1\n",
    "make_pseudo_dataframe(image_ids, output_dict, TEST_DIR, df, TRAIN_DIR, PSEUDO_FOLD)\n",
    "del output_dict\n",
    "gc.collect()"
   ]
  },
  {
   "cell_type": "code",
   "execution_count": null,
   "id": "b3c6e709-851b-44a4-b11b-7232ecb77b01",
   "metadata": {},
   "outputs": [],
   "source": []
  }
 ],
 "metadata": {
  "kernelspec": {
   "display_name": "Python 3 (ipykernel)",
   "language": "python",
   "name": "python3"
  },
  "language_info": {
   "codemirror_mode": {
    "name": "ipython",
    "version": 3
   },
   "file_extension": ".py",
   "mimetype": "text/x-python",
   "name": "python",
   "nbconvert_exporter": "python",
   "pygments_lexer": "ipython3",
   "version": "3.8.10"
  }
 },
 "nbformat": 4,
 "nbformat_minor": 5
}
